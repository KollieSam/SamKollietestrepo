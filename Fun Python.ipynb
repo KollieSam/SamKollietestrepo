{
 "cells": [
  {
   "cell_type": "markdown",
   "metadata": {},
   "source": [
    "# Cowsay\n",
    "\n",
    "#### Samuel Kollie\n",
    "\n",
    "code taken from: https://levelup.gitconnected.com/python-can-be-lots-of-fun-999552d69d21"
   ]
  },
  {
   "cell_type": "code",
   "execution_count": 2,
   "metadata": {},
   "outputs": [
    {
     "name": "stdout",
     "output_type": "stream",
     "text": [
      "Defaulting to user installation because normal site-packages is not writeable\n",
      "Collecting cowsay\n",
      "  Using cached cowsay-5.0.tar.gz (25 kB)\n",
      "Building wheels for collected packages: cowsay\n",
      "  Building wheel for cowsay (setup.py): started\n",
      "  Building wheel for cowsay (setup.py): finished with status 'done'\n",
      "  Created wheel for cowsay: filename=cowsay-5.0-py2.py3-none-any.whl size=25712 sha256=2bf88f3e3e1795786066db8ad092d6f1ab78bf0e044505285f2b38d1dc6aa7a6\n",
      "  Stored in directory: c:\\users\\a0808597\\appdata\\local\\pip\\cache\\wheels\\64\\ae\\fe\\f16b584bc50cebd8fc7eb1fa69e96abf8b9024114517874952\n",
      "Successfully built cowsay\n",
      "Installing collected packages: cowsay\n",
      "Successfully installed cowsay-5.0\n",
      "Note: you may need to restart the kernel to use updated packages.\n"
     ]
    },
    {
     "name": "stderr",
     "output_type": "stream",
     "text": [
      "WARNING: Value for scheme.headers does not match. Please report this to <https://github.com/pypa/pip/issues/9617>\n",
      "distutils: C:\\Anaconda3\\Include\\UNKNOWN\n",
      "sysconfig: C:\\Anaconda3\\Include\n",
      "WARNING: Additional context:\n",
      "user = False\n",
      "home = None\n",
      "root = None\n",
      "prefix = None\n",
      "  WARNING: The script cowsay.exe is installed in 'C:\\Users\\A0808597\\AppData\\Roaming\\Python\\Python38\\Scripts' which is not on PATH.\n",
      "  Consider adding this directory to PATH or, if you prefer to suppress this warning, use --no-warn-script-location.\n",
      "WARNING: Value for scheme.headers does not match. Please report this to <https://github.com/pypa/pip/issues/9617>\n",
      "distutils: C:\\Users\\A0808597\\AppData\\Roaming\\Python\\Python38\\Include\\UNKNOWN\n",
      "sysconfig: C:\\Users\\A0808597\\AppData\\Roaming\\Python\\Python38\\Include\n",
      "WARNING: Additional context:\n",
      "user = True\n",
      "home = None\n",
      "root = None\n",
      "prefix = None\n",
      "WARNING: You are using pip version 21.1; however, version 22.2.2 is available.\n",
      "You should consider upgrading via the 'C:\\Anaconda3\\python.exe -m pip install --upgrade pip' command.\n"
     ]
    }
   ],
   "source": [
    "pip install cowsay"
   ]
  },
  {
   "cell_type": "code",
   "execution_count": 2,
   "metadata": {},
   "outputs": [],
   "source": [
    "# https://levelup.gitconnected.com/python-can-be-lots-of-fun-999552d69d21\n",
    "\n",
    "import cowsay"
   ]
  },
  {
   "cell_type": "code",
   "execution_count": 5,
   "metadata": {},
   "outputs": [
    {
     "name": "stdout",
     "output_type": "stream",
     "text": [
      "  ________________\n",
      "| Hello everybody! |\n",
      "  ================\n",
      "                \\\n",
      "                 \\\n",
      "                   ^__^\n",
      "                   (oo)\\_______\n",
      "                   (__)\\       )\\/\\\n",
      "                       ||----w |\n",
      "                       ||     ||\n"
     ]
    }
   ],
   "source": [
    "cowsay.cow('Hello everybody!')"
   ]
  },
  {
   "cell_type": "code",
   "execution_count": 3,
   "metadata": {},
   "outputs": [
    {
     "name": "stdout",
     "output_type": "stream",
     "text": [
      "  ______________________\n",
      "| I want some ice cream! |\n",
      "  ======================\n",
      "                      \\\n",
      "                       \\\n",
      "                         ^__^\n",
      "                         (oo)\\_______\n",
      "                         (__)\\       )\\/\\\n",
      "                             ||----w |\n",
      "                             ||     ||\n"
     ]
    }
   ],
   "source": [
    "cowsay.cow('I want some ice cream!')"
   ]
  },
  {
   "cell_type": "code",
   "execution_count": 4,
   "metadata": {},
   "outputs": [
    {
     "name": "stdout",
     "output_type": "stream",
     "text": [
      "Number of creatures: 18\n",
      "['beavis', 'cheese', 'daemon', 'cow', 'dragon', 'fox', 'ghostbusters', 'kitty', 'meow', 'miki', 'milk', 'pig', 'stegosaurus', 'stimpy', 'trex', 'turkey', 'turtle', 'tux']\n",
      "  _______________________________________________\n",
      "| Hello everybody! Tetra Pak of Milk is speaking. |\n",
      "  ===============================================\n",
      "                                               \\\n",
      "                                                \\\n",
      "                                                 \\\n",
      "                                                  \\\n",
      "                                                      ____________\n",
      "                                                      |__________|\n",
      "                                                     /           /\\\n",
      "                                                    /           /  \\\n",
      "                                                   /___________/___/|\n",
      "                                                   |          |     |\n",
      "                                                   |  ==\\ /== |     |\n",
      "                                                   |   O   O  | \\ \\ |\n",
      "                                                   |     <    |  \\ \\|\n",
      "                                                  /|          |   \\ \\\n",
      "                                                 / |  \\_____/ |   / /\n",
      "                                                / /|          |  / /|\n",
      "                                               /||\\|          | /||\\/\n",
      "                                                   -------------|\n",
      "                                                       | |    | |\n",
      "                                                      <__/    \\__>\n"
     ]
    }
   ],
   "source": [
    "print(f'Number of creatures: {len(cowsay.char_names)}')\n",
    "print(list(cowsay.char_names))\n",
    "cowsay.milk('Hello everybody! Tetra Pak of Milk is speaking.')"
   ]
  },
  {
   "cell_type": "code",
   "execution_count": 10,
   "metadata": {},
   "outputs": [
    {
     "data": {
      "text/plain": [
       "<function cowsay.main.func(text, char_lines=\"\\n     \\\\\\n      \\\\\\n       \\\\\\n        .--.\\n       |o_o |\\n       |:_/ |\\n      //   \\\\ \\\\\\n     (|     | )\\n    /'\\\\_   _/`\\\\\\n    \\\\___)=(___/\\n\")>"
      ]
     },
     "execution_count": 10,
     "metadata": {},
     "output_type": "execute_result"
    }
   ],
   "source": [
    "cowsay.tux"
   ]
  },
  {
   "cell_type": "code",
   "execution_count": 11,
   "metadata": {},
   "outputs": [
    {
     "data": {
      "text/plain": [
       "\"\\n     \\\\\\n      \\\\\\n       \\\\\\n        .--.\\n       |o_o |\\n       |:_/ |\\n      //   \\\\ \\\\\\n     (|     | )\\n    /'\\\\_   _/`\\\\\\n    \\\\___)=(___/\\n\""
      ]
     },
     "execution_count": 11,
     "metadata": {},
     "output_type": "execute_result"
    }
   ],
   "source": [
    "import inspect\n",
    "list(inspect.getfullargspec(cowsay.chars['tux']))[3][0]"
   ]
  },
  {
   "cell_type": "code",
   "execution_count": 12,
   "metadata": {},
   "outputs": [
    {
     "name": "stdout",
     "output_type": "stream",
     "text": [
      "Defaulting to user installation because normal site-packages is not writeable\n",
      "Collecting dinosay\n",
      "  Downloading dinosay-1.2.0-py3-none-any.whl (26 kB)\n",
      "Installing collected packages: dinosay\n",
      "Successfully installed dinosay-1.2.0\n",
      "Note: you may need to restart the kernel to use updated packages.\n"
     ]
    },
    {
     "name": "stderr",
     "output_type": "stream",
     "text": [
      "WARNING: Value for scheme.headers does not match. Please report this to <https://github.com/pypa/pip/issues/9617>\n",
      "distutils: C:\\Anaconda3\\Include\\UNKNOWN\n",
      "sysconfig: C:\\Anaconda3\\Include\n",
      "WARNING: Additional context:\n",
      "user = False\n",
      "home = None\n",
      "root = None\n",
      "prefix = None\n",
      "  WARNING: The scripts dinolist.exe and dinosay.exe are installed in 'C:\\Users\\A0808597\\AppData\\Roaming\\Python\\Python38\\Scripts' which is not on PATH.\n",
      "  Consider adding this directory to PATH or, if you prefer to suppress this warning, use --no-warn-script-location.\n",
      "WARNING: Value for scheme.headers does not match. Please report this to <https://github.com/pypa/pip/issues/9617>\n",
      "distutils: C:\\Users\\A0808597\\AppData\\Roaming\\Python\\Python38\\Include\\UNKNOWN\n",
      "sysconfig: C:\\Users\\A0808597\\AppData\\Roaming\\Python\\Python38\\Include\n",
      "WARNING: Additional context:\n",
      "user = True\n",
      "home = None\n",
      "root = None\n",
      "prefix = None\n",
      "WARNING: You are using pip version 21.1; however, version 22.2.2 is available.\n",
      "You should consider upgrading via the 'C:\\Anaconda3\\python.exe -m pip install --upgrade pip' command.\n"
     ]
    }
   ],
   "source": [
    "pip install dinosay"
   ]
  },
  {
   "cell_type": "code",
   "execution_count": 13,
   "metadata": {},
   "outputs": [
    {
     "name": "stdout",
     "output_type": "stream",
     "text": [
      "\n",
      "                                 \n",
      "                                 /---------------------------------\\\n",
      "                                 | Hello world! I'm a corythosaur. |\n",
      "                                 \\---------------------------------/\n",
      "                                       \\\n",
      "                                        \\\n",
      "                                         \\\n",
      "\n",
      "    \n",
      "                                             .--.\n",
      "                                            {(~~)}\n",
      "                           __..._         _.''''O`,._\n",
      "                       _.-'      '~-._.-~~     (  .__}\n",
      "                    _-~                       _.`--\n",
      "                 _-~     _         /~\\    _.-~     \n",
      "              _-~     ,-~ ~-.      \\\\ ) .~\n",
      "            .'       {       )      \\\\|'\n",
      "          .'         {       /  _.-' |:\n",
      "        .'            \\     /.-'     \\\\\n",
      "      .'        __.-~.=\\   /          `}\n",
      "      ;      _.-~   / ./ |  }\n",
      "      {    _.'     / /   | /\n",
      "      {    =      {=+__  | :\n",
      "      :   :_      `-- = \\,_`-,.\n",
      "       `.   '=,_\n",
      "          '-.___'_::='\n",
      "    \n"
     ]
    }
   ],
   "source": [
    "from dinosay import dinoprint, DINO_TYPE\n",
    "dinoprint(message=\"Hello world! I'm a corythosaur.\", body=DINO_TYPE['corythosaur'])"
   ]
  },
  {
   "cell_type": "code",
   "execution_count": 14,
   "metadata": {},
   "outputs": [
    {
     "name": "stdout",
     "output_type": "stream",
     "text": [
      "Number of dinosaurs: 14\n",
      "['tyrannosaurus', 'dimetrodon', 'ankylosaur', 'hypsilophodon', 'stegosaurus', 'deinonychus', 'pterodactyl', 'archaeopteryx', 'maiasaur', 'pleisiosaur', 'brachiosaur', 'corythosaur', 'parasaurolophus', 'triceratops']\n"
     ]
    }
   ],
   "source": [
    "# What kinds of dinosaurs are available?\n",
    "\n",
    "print(f'Number of dinosaurs: {len(DINO_TYPE)}')\n",
    "print(list(DINO_TYPE.keys()))"
   ]
  },
  {
   "cell_type": "code",
   "execution_count": 17,
   "metadata": {},
   "outputs": [
    {
     "data": {
      "text/plain": [
       "\"\\n                                 $comic\\n    \\n                                             .--.\\n                                            {(~~)}\\n                           __..._         _.''''$eye`,._\\n                       _.-'      '~-._.-~~     (  .__}\\n                    _-~                       _.`--$tongue\\n                 _-~     _         /~\\\\    _.-~     \\n              _-~     ,-~ ~-.      \\\\\\\\ ) .~\\n            .'       {       )      \\\\\\\\|'\\n          .'         {       /  _.-' |:\\n        .'            \\\\     /.-'     \\\\\\\\\\n      .'        __.-~.=\\\\   /          `}\\n      ;      _.-~   / ./ |  }\\n      {    _.'     / /   | /\\n      {    =      {=+__  | :\\n      :   :_      `-- = \\\\,_`-,.\\n       `.   '=,_\\n          '-.___'_::='\\n    \""
      ]
     },
     "execution_count": 17,
     "metadata": {},
     "output_type": "execute_result"
    }
   ],
   "source": [
    "DINO_TYPE['corythosaur']"
   ]
  },
  {
   "cell_type": "code",
   "execution_count": 20,
   "metadata": {},
   "outputs": [
    {
     "name": "stdout",
     "output_type": "stream",
     "text": [
      "\n",
      "                                 \n",
      "                                 /---------------------------------\\\n",
      "                                 | Hello world! I'm a corythosaur. |\n",
      "                                 \\---------------------------------/\n",
      "                                       \\\n",
      "                                        \\\n",
      "                                         \\\n",
      "\n",
      "    \n",
      "                                             .--.\n",
      "                                            {(~~)}\n",
      "                           __..._         _.''''◉`,._\n",
      "                       _.-'      '~-._.-~~     (  .__}\n",
      "                    _-~                       _.`--\n",
      "                 _-~     _         /~\\    _.-~     \n",
      "              _-~     ,-~ ~-.      \\\\ ) .~\n",
      "            .'       {       )      \\\\|'\n",
      "          .'         {       /  _.-' |:\n",
      "        .'            \\     /.-'     \\\\\n",
      "      .'        __.-~.=\\   /          `}\n",
      "      ;      _.-~   / ./ |  }\n",
      "      {    _.'     / /   | /\n",
      "      {    =      {=+__  | :\n",
      "      :   :_      `-- = \\,_`-,.\n",
      "       `.   '=,_\n",
      "          '-.___'_::='\n",
      "    \n"
     ]
    }
   ],
   "source": [
    "DINO_TYPE['corythosaur'] = \"\\n                                 $comic\\n    \\n                                             .--.\\n                                            {(~~)}\\n                           __..._         _.''''◉`,._\\n                       _.-'      '~-._.-~~     (  .__}\\n                    _-~                       _.`--$tongue\\n                 _-~     _         /~\\\\    _.-~     \\n              _-~     ,-~ ~-.      \\\\\\\\ ) .~\\n            .'       {       )      \\\\\\\\|'\\n          .'         {       /  _.-' |:\\n        .'            \\\\     /.-'     \\\\\\\\\\n      .'        __.-~.=\\\\   /          `}\\n      ;      _.-~   / ./ |  }\\n      {    _.'     / /   | /\\n      {    =      {=+__  | :\\n      :   :_      `-- = \\\\,_`-,.\\n       `.   '=,_\\n          '-.___'_::='\\n    \"\n",
    "dinoprint(message=\"Hello world! I'm a corythosaur.\", body=DINO_TYPE['corythosaur'])"
   ]
  },
  {
   "cell_type": "code",
   "execution_count": 21,
   "metadata": {},
   "outputs": [],
   "source": [
    "from dinosay import DINO_TYPE"
   ]
  },
  {
   "cell_type": "code",
   "execution_count": 23,
   "metadata": {},
   "outputs": [
    {
     "name": "stdout",
     "output_type": "stream",
     "text": [
      "\n",
      "\n",
      "/--------------------------------------\\\n",
      "| I'm not a dinosaur, I'm a cat from   |\n",
      "| https://www.asciiart.eu/animals/cats |\n",
      "\\--------------------------------------/\n",
      "      \\\n",
      "       \\\n",
      "        \\\n",
      "\n",
      "      ,_     _,\n",
      "      |\\\\___//|\n",
      "      |=6   6=|\n",
      "      \\=._Y_.=/\n",
      "       )  `  (    ,\n",
      "      /       \\  ((\n",
      "      |       |   ))\n",
      "     /| |   | |\\_//\n",
      "     \\| |._.| |/-`\n",
      "      '\"'   '\"'\n",
      "\n"
     ]
    }
   ],
   "source": [
    "dinoprint(message=\"I'm not a dinosaur, I'm a cat from \\nhttps://www.asciiart.eu/animals/cats\", body='''\n",
    "$comic\n",
    "      ,_     _,\n",
    "      |\\\\\\___//|\n",
    "      |=6   6=|\n",
    "      \\=._Y_.=/\n",
    "       )  `  (    ,\n",
    "      /       \\  ((\n",
    "      |       |   ))\n",
    "     /| |   | |\\_//\n",
    "     \\| |._.| |/-`\n",
    "      '\"'   '\"'\n",
    "''')"
   ]
  },
  {
   "cell_type": "code",
   "execution_count": 26,
   "metadata": {},
   "outputs": [
    {
     "name": "stdout",
     "output_type": "stream",
     "text": [
      "\n",
      "/------------\\\n",
      "| I'm normal |\n",
      "\\------------/\n",
      "      \\\n",
      "       \\\n",
      "        \\\n",
      "\n",
      "    \n",
      "                            __.--'~~~~~`--.\n",
      "         ..       __.    .-~               ~-.\n",
      "         ((\\     /   `}.~                     `.\n",
      "          \\\\\\  .{     }               /     \\   \\\n",
      "      (\\   \\\\~~       }              |       }   \\\n",
      "       \\`.-~ -O~     }  ,-,.         |       )    \\\n",
      "       (___     ) _}  (    :        |    / /      `._\n",
      "        `----._-~.     _\\ \\ |_       \\   / /-.__     `._\n",
      "               ~~----~~  \\ \\| ~~--~~~(  + /     ~-._    ~-._\n",
      "                         /  /         \\  \\          ~--.,___~_-_.\n",
      "                      __/  /          _\\  )\n",
      "                    .<___.'         .<___/\n",
      "    \n",
      "None\n",
      "\n",
      "(-----------)\n",
      "| I'm tired |\n",
      "(-----------)\n",
      "      ()\n",
      "       ()\n",
      "        ()\n",
      "\n",
      "    \n",
      "                            __.--'~~~~~`--.\n",
      "         ..       __.    .-~               ~-.\n",
      "         ((\\     /   `}.~                     `.\n",
      "          \\\\\\  .{     }               /     \\   \\\n",
      "      (\\   \\\\~~       }              |       }   \\\n",
      "       \\`.-~ --~     }  ,-,.         |       )    \\\n",
      "       (___     ) _}  (    :        |    / /      `._\n",
      "        U`----._-~.     _\\ \\ |_       \\   / /-.__     `._\n",
      "               ~~----~~  \\ \\| ~~--~~~(  + /     ~-._    ~-._\n",
      "                         /  /         \\  \\          ~--.,___~_-_.\n",
      "                      __/  /          _\\  )\n",
      "                    .<___.'         .<___/\n",
      "    \n",
      "None\n",
      "\n",
      "♡♡♡♡♡♡♡♡♡♡♡♡♡♡\n",
      "♡ I'm joking ♡\n",
      "♡♡♡♡♡♡♡♡♡♡♡♡♡♡\n",
      "      ♡\n",
      "       ♡\n",
      "        ♡\n",
      "\n",
      "    \n",
      "                            __.--'~~~~~`--.\n",
      "         ..       __.    .-~               ~-.\n",
      "         ((\\     /   `}.~                     `.\n",
      "          \\\\\\  .{     }               /     \\   \\\n",
      "      (\\   \\\\~~       }              |       }   \\\n",
      "       \\`.-~ -^~     }  ,-,.         |       )    \\\n",
      "       (___     ) _}  (    :        |    / /      `._\n",
      "        U`----._-~.     _\\ \\ |_       \\   / /-.__     `._\n",
      "               ~~----~~  \\ \\| ~~--~~~(  + /     ~-._    ~-._\n",
      "                         /  /         \\  \\          ~--.,___~_-_.\n",
      "                      __/  /          _\\  )\n",
      "                    .<___.'         .<___/\n",
      "    \n",
      "None\n",
      "\n",
      "**************\n",
      "* I'm stoned *\n",
      "**************\n",
      "      *\n",
      "       *\n",
      "        *\n",
      "\n",
      "    \n",
      "                            __.--'~~~~~`--.\n",
      "         ..       __.    .-~               ~-.\n",
      "         ((\\     /   `}.~                     `.\n",
      "          \\\\\\  .{     }               /     \\   \\\n",
      "      (\\   \\\\~~       }              |       }   \\\n",
      "       \\`.-~ -*~     }  ,-,.         |       )    \\\n",
      "       (___     ) _}  (    :        |    / /      `._\n",
      "        `----._-~.     _\\ \\ |_       \\   / /-.__     `._\n",
      "               ~~----~~  \\ \\| ~~--~~~(  + /     ~-._    ~-._\n",
      "                         /  /         \\  \\          ~--.,___~_-_.\n",
      "                      __/  /          _\\  )\n",
      "                    .<___.'         .<___/\n",
      "    \n",
      "None\n",
      "\n",
      "+------------+\n",
      "| I'm a nerd |\n",
      "+------------+\n",
      "      \\\n",
      "       \\\n",
      "        \\\n",
      "\n",
      "    \n",
      "                            __.--'~~~~~`--.\n",
      "         ..       __.    .-~               ~-.\n",
      "         ((\\     /   `}.~                     `.\n",
      "          \\\\\\  .{     }               /     \\   \\\n",
      "      (\\   \\\\~~       }              |       }   \\\n",
      "       \\`.-~ -0~     }  ,-,.         |       )    \\\n",
      "       (___     ) _}  (    :        |    / /      `._\n",
      "        `----._-~.     _\\ \\ |_       \\   / /-.__     `._\n",
      "               ~~----~~  \\ \\| ~~--~~~(  + /     ~-._    ~-._\n",
      "                         /  /         \\  \\          ~--.,___~_-_.\n",
      "                      __/  /          _\\  )\n",
      "                    .<___.'         .<___/\n",
      "    \n",
      "None\n"
     ]
    }
   ],
   "source": [
    "print(dinoprint('I\\'m normal', DINO_TYPE['triceratops']))\n",
    "print(dinoprint('I\\'m tired', DINO_TYPE['triceratops'], behavior='tired'))\n",
    "print(dinoprint('I\\'m joking', DINO_TYPE['triceratops'], behavior='joking'))\n",
    "print(dinoprint('I\\'m stoned', DINO_TYPE['triceratops'], behavior='stoned'))\n",
    "print(dinoprint('I\\'m a nerd', DINO_TYPE['triceratops'], behavior='nerd'))"
   ]
  },
  {
   "cell_type": "code",
   "execution_count": null,
   "metadata": {},
   "outputs": [],
   "source": []
  }
 ],
 "metadata": {
  "kernelspec": {
   "display_name": "Python 3",
   "language": "python",
   "name": "python3"
  },
  "language_info": {
   "codemirror_mode": {
    "name": "ipython",
    "version": 3
   },
   "file_extension": ".py",
   "mimetype": "text/x-python",
   "name": "python",
   "nbconvert_exporter": "python",
   "pygments_lexer": "ipython3",
   "version": "3.8.5"
  }
 },
 "nbformat": 4,
 "nbformat_minor": 4
}
